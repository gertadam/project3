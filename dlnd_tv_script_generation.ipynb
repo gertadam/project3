{
 "cells": [
  {
   "cell_type": "markdown",
   "metadata": {},
   "source": [
    "# TV Script Generation\n",
    "In this project, you'll generate your own [Simpsons](https://en.wikipedia.org/wiki/The_Simpsons) TV scripts using RNNs.  You'll be using part of the [Simpsons dataset](https://www.kaggle.com/wcukierski/the-simpsons-by-the-data) of scripts from 27 seasons.  The Neural Network you'll build will generate a new TV script for a scene at [Moe's Tavern](https://simpsonswiki.com/wiki/Moe's_Tavern)."
   ]
  },
  {
   "cell_type": "markdown",
   "metadata": {},
   "source": [
    "## Global methods & vars"
   ]
  },
  {
   "cell_type": "code",
   "execution_count": 1,
   "metadata": {
    "collapsed": true
   },
   "outputs": [],
   "source": [
    "import os\n",
    "import time\n",
    "import logging\n",
    "from datetime import timedelta\n",
    "\n",
    "def  split(start_time):\n",
    "    # method for messuring the relative time usage \n",
    "    split_time = time.time()\n",
    "    time_dif   = split_time - start_time\n",
    "    #time_str = str(timedelta(seconds = int(round(time_dif))))\n",
    "    time_str = str(timedelta(seconds = int(time_dif)))\n",
    "    return time_str\n",
    "\n",
    "    # logging used to work in P2 image clas - and was a big help for me - for some reason it does not now\n",
    "    # setting level to CRITICAL --- I will have to find the time to sort this out - eventually\n",
    "def init_logging():\n",
    "    log_dir = 'dlnd-log/'\n",
    "    if not os.path.exists(log_dir):\n",
    "        os.makedirs(log_dir)\n",
    "    log_path = os.path.join(log_dir, 'event.log')\n",
    "    # ! remember to set level=logging.CRITICAL before handing in\n",
    "    logging.basicConfig(filename=log_path, format='%(levelname)s: - %(asctime)s: - %(message)s', level=logging.CRITICAL)\n",
    "    logging.info('log start')  # information about when the log is \"restarted\"\n",
    "\n",
    "start_time =    time.time()\n",
    "init_logging()"
   ]
  },
  {
   "cell_type": "code",
   "execution_count": 2,
   "metadata": {},
   "outputs": [
    {
     "data": {
      "text/plain": [
       "1491523215.5523322"
      ]
     },
     "execution_count": 2,
     "metadata": {},
     "output_type": "execute_result"
    }
   ],
   "source": [
    "start_time"
   ]
  },
  {
   "cell_type": "markdown",
   "metadata": {},
   "source": [
    "## Get the Data\n",
    "The data is already provided for you.  You'll be using a subset of the original dataset.  It consists of only the scenes in Moe's Tavern.  This doesn't include other versions of the tavern, like \"Moe's Cavern\", \"Flaming Moe's\", \"Uncle Moe's Family Feed-Bag\", etc.."
   ]
  },
  {
   "cell_type": "code",
   "execution_count": 3,
   "metadata": {
    "collapsed": true
   },
   "outputs": [],
   "source": [
    "\"\"\"\n",
    "DON'T MODIFY ANYTHING IN THIS CELL\n",
    "\"\"\"\n",
    "import helper\n",
    "\n",
    "data_dir = './data/simpsons/moes_tavern_lines.txt'\n",
    "text = helper.load_data(data_dir)\n",
    "# Ignore notice, since we don't use it for analysing the data\n",
    "text = text[81:]"
   ]
  },
  {
   "cell_type": "code",
   "execution_count": 4,
   "metadata": {
    "collapsed": true
   },
   "outputs": [],
   "source": [
    "logging.debug(\"Finished looking for the data file\")"
   ]
  },
  {
   "cell_type": "markdown",
   "metadata": {},
   "source": [
    "## Explore the Data\n",
    "Play around with `view_sentence_range` to view different parts of the data."
   ]
  },
  {
   "cell_type": "code",
   "execution_count": 5,
   "metadata": {},
   "outputs": [
    {
     "name": "stdout",
     "output_type": "stream",
     "text": [
      "Dataset Stats\n",
      "Roughly the number of unique words: 11492\n",
      "Number of scenes: 262\n",
      "Average number of sentences in each scene: 15.248091603053435\n",
      "Number of lines: 4257\n",
      "Average number of words in each line: 11.50434578341555\n",
      "\n",
      "The sentences 0 to 10:\n",
      "Moe_Szyslak: (INTO PHONE) Moe's Tavern. Where the elite meet to drink.\n",
      "Bart_Simpson: Eh, yeah, hello, is Mike there? Last name, Rotch.\n",
      "Moe_Szyslak: (INTO PHONE) Hold on, I'll check. (TO BARFLIES) Mike Rotch. Mike Rotch. Hey, has anybody seen Mike Rotch, lately?\n",
      "Moe_Szyslak: (INTO PHONE) Listen you little puke. One of these days I'm gonna catch you, and I'm gonna carve my name on your back with an ice pick.\n",
      "Moe_Szyslak: What's the matter Homer? You're not your normal effervescent self.\n",
      "Homer_Simpson: I got my problems, Moe. Give me another one.\n",
      "Moe_Szyslak: Homer, hey, you should not drink to forget your problems.\n",
      "Barney_Gumble: Yeah, you should only drink to enhance your social skills.\n",
      "\n",
      "\n"
     ]
    }
   ],
   "source": [
    "view_sentence_range = (0, 10)\n",
    "\n",
    "\"\"\"\n",
    "DON'T MODIFY ANYTHING IN THIS CELL\n",
    "\"\"\"\n",
    "import numpy as np\n",
    "\n",
    "print('Dataset Stats')\n",
    "print('Roughly the number of unique words: {}'.format(len({word: None for word in text.split()})))\n",
    "scenes = text.split('\\n\\n')\n",
    "print('Number of scenes: {}'.format(len(scenes)))\n",
    "sentence_count_scene = [scene.count('\\n') for scene in scenes]\n",
    "print('Average number of sentences in each scene: {}'.format(np.average(sentence_count_scene)))\n",
    "\n",
    "sentences = [sentence for scene in scenes for sentence in scene.split('\\n')]\n",
    "print('Number of lines: {}'.format(len(sentences)))\n",
    "word_count_sentence = [len(sentence.split()) for sentence in sentences]\n",
    "print('Average number of words in each line: {}'.format(np.average(word_count_sentence)))\n",
    "\n",
    "print()\n",
    "print('The sentences {} to {}:'.format(*view_sentence_range))\n",
    "print('\\n'.join(text.split('\\n')[view_sentence_range[0]:view_sentence_range[1]]))"
   ]
  },
  {
   "cell_type": "code",
   "execution_count": 6,
   "metadata": {
    "collapsed": true
   },
   "outputs": [],
   "source": [
    "logging.debug(\"viewing sentence range\")"
   ]
  },
  {
   "cell_type": "markdown",
   "metadata": {},
   "source": [
    "## Implement Preprocessing Functions\n",
    "The first thing to do to any dataset is preprocessing.  Implement the following preprocessing functions below:\n",
    "- Lookup Table\n",
    "- Tokenize Punctuation\n",
    "\n",
    "### Lookup Table\n",
    "To create a word embedding, you first need to transform the words to ids.  In this function, create two dictionaries:\n",
    "- Dictionary to go from the words to an id, we'll call `vocab_to_int`\n",
    "- Dictionary to go from the id to word, we'll call `int_to_vocab`\n",
    "\n",
    "Return these dictionaries in the following tuple `(vocab_to_int, int_to_vocab)`"
   ]
  },
  {
   "cell_type": "code",
   "execution_count": 7,
   "metadata": {},
   "outputs": [
    {
     "name": "stdout",
     "output_type": "stream",
     "text": [
      "Tests Passed\n"
     ]
    }
   ],
   "source": [
    "import numpy as np\n",
    "import problem_unittests as tests\n",
    "\n",
    "def create_lookup_tables(text):\n",
    "    \"\"\"\n",
    "    Create lookup tables for vocabulary\n",
    "    :param text: The text of tv scripts split into words\n",
    "    :return: A tuple of dicts (vocab_to_int, int_to_vocab)\n",
    "    \"\"\"\n",
    "    vocab_to_int = {}\n",
    "    int_to_vocab = {}\n",
    "    j = 0\n",
    "    for i, word in enumerate(text):\n",
    "        if word not in vocab_to_int:\n",
    "            \n",
    "            int_to_vocab[j] = word\n",
    "            vocab_to_int[word] = j\n",
    "            j = j + 1\n",
    "        \n",
    "    #print(\"(len(vocab_to_int))\", len(vocab_to_int))\n",
    "    logging.debug(\"(len(vocab_to_int))\", len(vocab_to_int))\n",
    "    #print(\"(len(int_to_vocab))\", len(int_to_vocab))\n",
    "    #print(int_to_vocab[1]) \n",
    "    logging.debug(\"(len(int_to_vocab))\", len(int_to_vocab))\n",
    "    \n",
    "    return vocab_to_int, int_to_vocab\n",
    "\n",
    "\n",
    "\"\"\"\n",
    "DON'T MODIFY ANYTHING IN THIS CELL THAT IS BELOW THIS LINE\n",
    "\"\"\"\n",
    "tests.test_create_lookup_tables(create_lookup_tables)"
   ]
  },
  {
   "cell_type": "markdown",
   "metadata": {},
   "source": [
    "### Tokenize Punctuation\n",
    "We'll be splitting the script into a word array using spaces as delimiters.  However, punctuations like periods and exclamation marks make it hard for the neural network to distinguish between the word \"bye\" and \"bye!\".\n",
    "\n",
    "Implement the function `token_lookup` to return a dict that will be used to tokenize symbols like \"!\" into \"||Exclamation_Mark||\".  Create a dictionary for the following symbols where the symbol is the key and value is the token:\n",
    "- Period ( . )\n",
    "- Comma ( , )\n",
    "- Quotation Mark ( \" )\n",
    "- Semicolon ( ; )\n",
    "- Exclamation mark ( ! )\n",
    "- Question mark ( ? )\n",
    "- Left Parentheses ( ( )\n",
    "- Right Parentheses ( ) )\n",
    "- Dash ( -- )\n",
    "- Return ( \\n )\n",
    "\n",
    "This dictionary will be used to token the symbols and add the delimiter (space) around it.  This separates the symbols as it's own word, making it easier for the neural network to predict on the next word. Make sure you don't use a token that could be confused as a word. Instead of using the token \"dash\", try using something like \"||dash||\"."
   ]
  },
  {
   "cell_type": "code",
   "execution_count": 8,
   "metadata": {},
   "outputs": [
    {
     "name": "stdout",
     "output_type": "stream",
     "text": [
      "Tests Passed\n"
     ]
    }
   ],
   "source": [
    "def token_lookup():\n",
    "    \"\"\"\n",
    "    Generate a dict to turn punctuation into a token.\n",
    "    :return: Tokenize dictionary where the key is the punctuation and the value is the token\n",
    "    \"\"\"\n",
    "    tok_dict = {}\n",
    "    tok_dict['.']  = '||Period||' \n",
    "    tok_dict[',']  = '||Comma||'\n",
    "    tok_dict['\"']  = '||Quotation_Mark||'\n",
    "    tok_dict[';']  = '||Semicolon||'\n",
    "    tok_dict['!']  = '||Exclamation_mark||'\n",
    "    tok_dict['?']  = '||Question_mark||'\n",
    "    tok_dict['(']  = '||Left_Parentheses||'\n",
    "    tok_dict[')']  = '||Right_Parentheses||'\n",
    "    tok_dict['--'] = '||Dash||'\n",
    "    tok_dict['\\n'] = '||Return||'\n",
    "    \n",
    "    return tok_dict\n",
    "    \n",
    "\n",
    "\"\"\"\n",
    "DON'T MODIFY ANYTHING IN THIS CELL THAT IS BELOW THIS LINE\n",
    "\"\"\"\n",
    "tests.test_tokenize(token_lookup)"
   ]
  },
  {
   "cell_type": "markdown",
   "metadata": {},
   "source": [
    "## Preprocess all the data and save it\n",
    "Running the code cell below will preprocess all the data and save it to file."
   ]
  },
  {
   "cell_type": "code",
   "execution_count": 9,
   "metadata": {
    "collapsed": true
   },
   "outputs": [],
   "source": [
    "\"\"\"\n",
    "DON'T MODIFY ANYTHING IN THIS CELL\n",
    "\"\"\"\n",
    "# Preprocess Training, Validation, and Testing Data\n",
    "helper.preprocess_and_save_data(data_dir, token_lookup, create_lookup_tables)"
   ]
  },
  {
   "cell_type": "markdown",
   "metadata": {},
   "source": [
    "# Check Point\n",
    "This is your first checkpoint. If you ever decide to come back to this notebook or have to restart the notebook, you can start from here. The preprocessed data has been saved to disk."
   ]
  },
  {
   "cell_type": "code",
   "execution_count": 10,
   "metadata": {
    "collapsed": true
   },
   "outputs": [],
   "source": [
    "\"\"\"\n",
    "DON'T MODIFY ANYTHING IN THIS CELL\n",
    "\"\"\"\n",
    "import helper\n",
    "import numpy as np\n",
    "import problem_unittests as tests\n",
    "\n",
    "int_text, vocab_to_int, int_to_vocab, token_dict = helper.load_preprocess()"
   ]
  },
  {
   "cell_type": "markdown",
   "metadata": {},
   "source": [
    "## Build the Neural Network\n",
    "You'll build the components necessary to build a RNN by implementing the following functions below:\n",
    "- get_inputs\n",
    "- get_init_cell\n",
    "- get_embed\n",
    "- build_rnn\n",
    "- build_nn\n",
    "- get_batches\n",
    "\n",
    "### Check the Version of TensorFlow and Access to GPU"
   ]
  },
  {
   "cell_type": "code",
   "execution_count": 27,
   "metadata": {},
   "outputs": [
    {
     "name": "stdout",
     "output_type": "stream",
     "text": [
      "TensorFlow Version: 1.0.1\n",
      "Default GPU Device: /gpu:0\n"
     ]
    }
   ],
   "source": [
    "\"\"\"\n",
    "DON'T MODIFY ANYTHING IN THIS CELL\n",
    "\"\"\"\n",
    "from distutils.version import LooseVersion\n",
    "import warnings\n",
    "import tensorflow as tf\n",
    "\n",
    "# Check TensorFlow Version\n",
    "assert LooseVersion(tf.__version__) >= LooseVersion('1.0'), 'Please use TensorFlow version 1.0 or newer'\n",
    "print('TensorFlow Version: {}'.format(tf.__version__))\n",
    "\n",
    "# Check for a GPU\n",
    "if not tf.test.gpu_device_name():\n",
    "    warnings.warn('No GPU found. Please use a GPU to train your neural network.')\n",
    "else:\n",
    "    print('Default GPU Device: {}'.format(tf.test.gpu_device_name()))"
   ]
  },
  {
   "cell_type": "code",
   "execution_count": 28,
   "metadata": {},
   "outputs": [
    {
     "name": "stdout",
     "output_type": "stream",
     "text": [
      "True\n"
     ]
    }
   ],
   "source": [
    "print(tf.test.is_gpu_available(cuda_only=True))"
   ]
  },
  {
   "cell_type": "markdown",
   "metadata": {},
   "source": [
    "### Input\n",
    "Implement the `get_inputs()` function to create TF Placeholders for the Neural Network.  It should create the following placeholders:\n",
    "- Input text placeholder named \"input\" using the [TF Placeholder](https://www.tensorflow.org/api_docs/python/tf/placeholder) `name` parameter.\n",
    "- Targets placeholder\n",
    "- Learning Rate placeholder\n",
    "\n",
    "Return the placeholders in the following the tuple `(Input, Targets, LearingRate)`"
   ]
  },
  {
   "cell_type": "code",
   "execution_count": 29,
   "metadata": {},
   "outputs": [
    {
     "name": "stdout",
     "output_type": "stream",
     "text": [
      "Tests Passed\n"
     ]
    }
   ],
   "source": [
    "def get_inputs():\n",
    "    \"\"\"\n",
    "    Create TF Placeholders for input, targets, and learning rate.\n",
    "    :return: Tuple (input, targets, learning rate)\n",
    "    \"\"\"\n",
    "    input_data = tf.placeholder(tf.int32, [None, None], name='input')\n",
    "    targets    = tf.placeholder(tf.int32, [None, None], name='targets')\n",
    "    lr         = tf.placeholder(tf.float32,             name='lr')\n",
    "    \n",
    "    return input_data, targets, lr\n",
    "\n",
    "\n",
    "\"\"\"\n",
    "DON'T MODIFY ANYTHING IN THIS CELL THAT IS BELOW THIS LINE\n",
    "\"\"\"\n",
    "tests.test_get_inputs(get_inputs)"
   ]
  },
  {
   "cell_type": "raw",
   "metadata": {},
   "source": [
    "### ?? What do we do when the tf.test.gpu_device_name does not work - I wonder?\n",
    "I have 2 GeForce GTX 980 - and TF uses at least one of them - and blocks the memory in them both when working...\n",
    "I mean it is kinda quick, but it is silly to use only the first one. \n",
    "We will have to see what we can do about that... \n",
    "(Trying to implement decorator design pattern from \"Hands-On ML with SCiKit and TF\" O'Reilly)\n",
    "..and if it works here - will it work anywhere else ? I hope it will."
   ]
  },
  {
   "cell_type": "code",
   "execution_count": 30,
   "metadata": {
    "collapsed": true
   },
   "outputs": [],
   "source": [
    "# Distributing across devices"
   ]
  },
  {
   "cell_type": "code",
   "execution_count": 36,
   "metadata": {
    "collapsed": true
   },
   "outputs": [],
   "source": [
    "import tensorflow as tf\n",
    "\n",
    "class DeviceCellWrapper(tf.contrib.rnn.RNNCell):\n",
    "  def __init__(self, device, cell):\n",
    "    self._cell = cell\n",
    "    self._device = device\n",
    "\n",
    "  @property\n",
    "  def state_size(self):\n",
    "    return self._cell.state_size\n",
    "\n",
    "  @property\n",
    "  def output_size(self):\n",
    "    return self._cell.output_size\n",
    "\n",
    "  def __call__(self, inputs, state, scope=None):\n",
    "    with tf.device(self._device):\n",
    "        return self._cell(inputs, state, scope)"
   ]
  },
  {
   "cell_type": "markdown",
   "metadata": {},
   "source": [
    "### Build RNN Cell and Initialize\n",
    "Stack one or more [`BasicLSTMCells`](https://www.tensorflow.org/api_docs/python/tf/contrib/rnn/BasicLSTMCell) in a [`MultiRNNCell`](https://www.tensorflow.org/api_docs/python/tf/contrib/rnn/MultiRNNCell).\n",
    "- The Rnn size should be set using `rnn_size`\n",
    "- Initalize Cell State using the MultiRNNCell's [`zero_state()`](https://www.tensorflow.org/api_docs/python/tf/contrib/rnn/MultiRNNCell#zero_state) function\n",
    "    - Apply the name \"initial_state\" to the initial state using [`tf.identity()`](https://www.tensorflow.org/api_docs/python/tf/identity)\n",
    "\n",
    "Return the cell and initial state in the following tuple `(Cell, InitialState)`"
   ]
  },
  {
   "cell_type": "code",
   "execution_count": 37,
   "metadata": {},
   "outputs": [
    {
     "name": "stdout",
     "output_type": "stream",
     "text": [
      "Tests Passed\n"
     ]
    }
   ],
   "source": [
    "def get_init_cell(batch_size, rnn_size):\n",
    "    \"\"\"\n",
    "    Create an RNN Cell and initialize it.\n",
    "    :param batch_size: Size of batches\n",
    "    :param rnn_size: Size of RNNs\n",
    "    :return: Tuple (cell, initialize state)\n",
    "    \"\"\"\n",
    "    devices = [\"/gpu:0\",\"/gpu:1\"]\n",
    "    basic_cell  = [DeviceCellWrapper(device, tf.contrib.rnn.BasicLSTMCell(num_units=rnn_size))\n",
    "                   for device in devices]\n",
    "    multi_cell  = tf.contrib.rnn.MultiRNNCell(basic_cell)\n",
    "    init_state  = multi_cell.zero_state(batch_size, tf.float32)\n",
    "    named_state = tf.identity(init_state, name='initial_state')\n",
    "    \n",
    "    return multi_cell, named_state\n",
    "\n",
    "\n",
    "\"\"\"\n",
    "DON'T MODIFY ANYTHING IN THIS CELL THAT IS BELOW THIS LINE\n",
    "\"\"\"\n",
    "tests.test_get_init_cell(get_init_cell)"
   ]
  },
  {
   "cell_type": "markdown",
   "metadata": {},
   "source": [
    "### Word Embedding\n",
    "Apply embedding to `input_data` using TensorFlow.  Return the embedded sequence."
   ]
  },
  {
   "cell_type": "code",
   "execution_count": 40,
   "metadata": {},
   "outputs": [
    {
     "name": "stdout",
     "output_type": "stream",
     "text": [
      "Tests Passed\n"
     ]
    }
   ],
   "source": [
    "def get_embed(input_data, vocab_size, embed_dim):\n",
    "    \"\"\"\n",
    "    Create embedding for <input_data>.\n",
    "    :param input_data: TF placeholder for text input.\n",
    "    :param vocab_size: Number of words in vocabulary.\n",
    "    :param embed_dim: Number of embedding dimensions\n",
    "    :return: Embedded input.\n",
    "    \"\"\"\n",
    "    embedding = tf.Variable(tf.truncated_normal((vocab_size, embed_dim), mean=0.1, stddev=0.1, dtype=tf.float32))\n",
    "    embed = tf.nn.embedding_lookup(embedding, input_data)\n",
    "    return embed\n",
    "\n",
    "\"\"\"\n",
    "DON'T MODIFY ANYTHING IN THIS CELL THAT IS BELOW THIS LINE\n",
    "\"\"\"\n",
    "tests.test_get_embed(get_embed)"
   ]
  },
  {
   "cell_type": "markdown",
   "metadata": {},
   "source": [
    "### Build RNN\n",
    "You created a RNN Cell in the `get_init_cell()` function.  Time to use the cell to create a RNN.\n",
    "- Build the RNN using the [`tf.nn.dynamic_rnn()`](https://www.tensorflow.org/api_docs/python/tf/nn/dynamic_rnn)\n",
    " - Apply the name \"final_state\" to the final state using [`tf.identity()`](https://www.tensorflow.org/api_docs/python/tf/identity)\n",
    "\n",
    "Return the outputs and final_state state in the following tuple `(Outputs, FinalState)` "
   ]
  },
  {
   "cell_type": "code",
   "execution_count": 41,
   "metadata": {},
   "outputs": [
    {
     "name": "stdout",
     "output_type": "stream",
     "text": [
      "Tests Passed\n"
     ]
    }
   ],
   "source": [
    "def build_rnn(cell, inputs):\n",
    "    \"\"\"\n",
    "    Create a RNN using a RNN Cell\n",
    "    :param cell: RNN Cell\n",
    "    :param inputs: Input text data\n",
    "    :return: Tuple (Outputs, Final State)\n",
    "    \"\"\"\n",
    "    \n",
    "    output, states = tf.nn.dynamic_rnn(cell, inputs, dtype=tf.float32)\n",
    "    final_state = tf.identity(states, 'final_state')\n",
    "    return output, final_state\n",
    "\n",
    "\"\"\"\n",
    "DON'T MODIFY ANYTHING IN THIS CELL THAT IS BELOW THIS LINE\n",
    "\"\"\"\n",
    "tests.test_build_rnn(build_rnn)"
   ]
  },
  {
   "cell_type": "markdown",
   "metadata": {},
   "source": [
    "### Build the Neural Network\n",
    "Apply the functions you implemented above to:\n",
    "- Apply embedding to `input_data` using your `get_embed(input_data, vocab_size, embed_dim)` function.\n",
    "- Build RNN using `cell` and your `build_rnn(cell, inputs)` function.\n",
    "- Apply a fully connected layer with a linear activation and `vocab_size` as the number of outputs.\n",
    "\n",
    "Return the logits and final state in the following tuple (Logits, FinalState) "
   ]
  },
  {
   "cell_type": "code",
   "execution_count": 43,
   "metadata": {},
   "outputs": [
    {
     "name": "stdout",
     "output_type": "stream",
     "text": [
      "Tests Passed\n"
     ]
    }
   ],
   "source": [
    "from tensorflow.contrib.layers import fully_connected\n",
    "\n",
    "def build_nn(cell, rnn_size, input_data, vocab_size):\n",
    "    \"\"\"\n",
    "    Build part of the neural network\n",
    "    :param cell: RNN cell\n",
    "    :param rnn_size: Size of rnns\n",
    "    :param input_data: Input data\n",
    "    :param vocab_size: Vocabulary size\n",
    "    :return: Tuple (Logits, FinalState)\n",
    "    \"\"\"\n",
    "    embed = get_embed(input_data, vocab_size, rnn_size)\n",
    "    rnn, states = build_rnn(cell, embed)\n",
    "    logits = fully_connected(rnn, vocab_size, activation_fn=None)\n",
    "    return logits, states\n",
    "\n",
    "\n",
    "\"\"\"\n",
    "DON'T MODIFY ANYTHING IN THIS CELL THAT IS BELOW THIS LINE\n",
    "\"\"\"\n",
    "tests.test_build_nn(build_nn)"
   ]
  },
  {
   "cell_type": "markdown",
   "metadata": {},
   "source": [
    "### Batches\n",
    "Implement `get_batches` to create batches of input and targets using `int_text`.  The batches should be a Numpy array with the shape `(number of batches, 2, batch size, sequence length)`. Each batch contains two elements:\n",
    "- The first element is a single batch of **input** with the shape `[batch size, sequence length]`\n",
    "- The second element is a single batch of **targets** with the shape `[batch size, sequence length]`\n",
    "\n",
    "If you can't fill the last batch with enough data, drop the last batch.\n",
    "\n",
    "For exmple, `get_batches([1, 2, 3, 4, 5, 6, 7, 8, 9, 10, 11, 12, 13, 14, 15], 2, 3)` would return a Numpy array of the following:\n",
    "```\n",
    "[\n",
    "  # First Batch\n",
    "  [\n",
    "    # Batch of Input\n",
    "    [[ 1  2  3], [ 7  8  9]],\n",
    "    # Batch of targets\n",
    "    [[ 2  3  4], [ 8  9 10]]\n",
    "  ],\n",
    " \n",
    "  # Second Batch\n",
    "  [\n",
    "    # Batch of Input\n",
    "    [[ 4  5  6], [10 11 12]],\n",
    "    # Batch of targets\n",
    "    [[ 5  6  7], [11 12 13]]\n",
    "  ]\n",
    "]\n",
    "```"
   ]
  },
  {
   "cell_type": "code",
   "execution_count": 44,
   "metadata": {},
   "outputs": [
    {
     "name": "stdout",
     "output_type": "stream",
     "text": [
      "Tests Passed\n"
     ]
    }
   ],
   "source": [
    "def get_batches(int_text, batch_size, seq_length):\n",
    "    \"\"\"\n",
    "    Return batches of input and target\n",
    "    :param int_text: Text with the words replaced by their ids\n",
    "    :param batch_size: The size of batch\n",
    "    :param seq_length: The length of sequence\n",
    "    :return: Batches as a Numpy array\n",
    "    \"\"\"\n",
    "    n_batches = int(len(int_text) / (batch_size * seq_length))\n",
    "\n",
    "    # Drop the last few characters to make only full batches\n",
    "    xdata = np.array(int_text[: n_batches * batch_size * seq_length])\n",
    "    ydata = np.array(int_text[1: n_batches * batch_size * seq_length + 1])\n",
    "\n",
    "    x_batches = np.split(xdata.reshape(batch_size, -1), n_batches, 1)\n",
    "    y_batches = np.split(ydata.reshape(batch_size, -1), n_batches, 1)\n",
    "    \n",
    "    batches = np.array([x_batches, y_batches])\n",
    "    \n",
    "    return np.rot90(batches)\n",
    "\n",
    "\n",
    "\"\"\"\n",
    "DON'T MODIFY ANYTHING IN THIS CELL THAT IS BELOW THIS LINE\n",
    "\"\"\"\n",
    "tests.test_get_batches(get_batches)"
   ]
  },
  {
   "cell_type": "markdown",
   "metadata": {},
   "source": [
    "## Neural Network Training\n",
    "### Hyperparameters\n",
    "Tune the following parameters:\n",
    "\n",
    "- Set `num_epochs` to the number of epochs.\n",
    "- Set `batch_size` to the batch size.\n",
    "- Set `rnn_size` to the size of the RNNs.\n",
    "- Set `seq_length` to the length of sequence.\n",
    "- Set `learning_rate` to the learning rate.\n",
    "- Set `show_every_n_batches` to the number of batches the neural network should print progress."
   ]
  },
  {
   "cell_type": "code",
   "execution_count": 45,
   "metadata": {
    "collapsed": true
   },
   "outputs": [],
   "source": [
    "# Number of Epochs\n",
    "num_epochs = 1000\n",
    "# Batch Size\n",
    "batch_size = 256\n",
    "# RNN Size\n",
    "rnn_size = 256\n",
    "# Sequence Length\n",
    "seq_length = 15\n",
    "# Learning Rate\n",
    "learning_rate =  0.001\n",
    "# Show stats for every n number of batches\n",
    "show_every_n_batches = 200\n",
    "\n",
    "\"\"\"\n",
    "DON'T MODIFY ANYTHING IN THIS CELL THAT IS BELOW THIS LINE\n",
    "\"\"\"\n",
    "save_dir = './save'"
   ]
  },
  {
   "cell_type": "markdown",
   "metadata": {},
   "source": [
    "### Build the Graph\n",
    "Build the graph using the neural network you implemented."
   ]
  },
  {
   "cell_type": "code",
   "execution_count": 46,
   "metadata": {
    "collapsed": true
   },
   "outputs": [],
   "source": [
    "\"\"\"\n",
    "DON'T MODIFY ANYTHING IN THIS CELL\n",
    "\"\"\"\n",
    "from tensorflow.contrib import seq2seq\n",
    "\n",
    "train_graph = tf.Graph()\n",
    "with train_graph.as_default():\n",
    "    vocab_size = len(int_to_vocab)\n",
    "    input_text, targets, lr = get_inputs()\n",
    "    input_data_shape = tf.shape(input_text)\n",
    "    cell, initial_state = get_init_cell(input_data_shape[0], rnn_size)\n",
    "    logits, final_state = build_nn(cell, rnn_size, input_text, vocab_size)\n",
    "\n",
    "    # Probabilities for generating words\n",
    "    probs = tf.nn.softmax(logits, name='probs')\n",
    "\n",
    "    # Loss function\n",
    "    cost = seq2seq.sequence_loss(\n",
    "        logits,\n",
    "        targets,\n",
    "        tf.ones([input_data_shape[0], input_data_shape[1]]))\n",
    "\n",
    "    # Optimizer\n",
    "    optimizer = tf.train.AdamOptimizer(lr)\n",
    "\n",
    "    # Gradient Clipping\n",
    "    gradients = optimizer.compute_gradients(cost)\n",
    "    capped_gradients = [(tf.clip_by_value(grad, -1., 1.), var) for grad, var in gradients]\n",
    "    train_op = optimizer.apply_gradients(capped_gradients)"
   ]
  },
  {
   "cell_type": "markdown",
   "metadata": {},
   "source": [
    "## Train\n",
    "Train the neural network on the preprocessed data.  If you have a hard time getting a good loss, check the [forms](https://discussions.udacity.com/) to see if anyone is having the same problem."
   ]
  },
  {
   "cell_type": "code",
   "execution_count": 47,
   "metadata": {},
   "outputs": [
    {
     "name": "stdout",
     "output_type": "stream",
     "text": [
      "Epoch   0 Batch    0/17   train_loss = 8.822\n",
      "Epoch  11 Batch   13/17   train_loss = 5.914\n",
      "Epoch  23 Batch    9/17   train_loss = 5.871\n",
      "Epoch  35 Batch    5/17   train_loss = 5.695\n",
      "Epoch  47 Batch    1/17   train_loss = 5.183\n",
      "Epoch  58 Batch   14/17   train_loss = 4.682\n",
      "Epoch  70 Batch   10/17   train_loss = 4.453\n",
      "Epoch  82 Batch    6/17   train_loss = 4.205\n",
      "Epoch  94 Batch    2/17   train_loss = 3.955\n",
      "Epoch 105 Batch   15/17   train_loss = 3.793\n",
      "Epoch 117 Batch   11/17   train_loss = 3.578\n",
      "Epoch 129 Batch    7/17   train_loss = 3.375\n",
      "Epoch 141 Batch    3/17   train_loss = 3.192\n",
      "Epoch 152 Batch   16/17   train_loss = 3.144\n",
      "Epoch 164 Batch   12/17   train_loss = 2.912\n",
      "Epoch 176 Batch    8/17   train_loss = 2.696\n",
      "Epoch 188 Batch    4/17   train_loss = 2.507\n",
      "Epoch 200 Batch    0/17   train_loss = 2.484\n",
      "Epoch 211 Batch   13/17   train_loss = 2.331\n",
      "Epoch 223 Batch    9/17   train_loss = 2.343\n",
      "Epoch 235 Batch    5/17   train_loss = 2.288\n",
      "Epoch 247 Batch    1/17   train_loss = 2.020\n",
      "Epoch 258 Batch   14/17   train_loss = 1.997\n",
      "Epoch 270 Batch   10/17   train_loss = 1.844\n",
      "Epoch 282 Batch    6/17   train_loss = 1.697\n",
      "Epoch 294 Batch    2/17   train_loss = 1.709\n",
      "Epoch 305 Batch   15/17   train_loss = 1.543\n",
      "Epoch 317 Batch   11/17   train_loss = 1.453\n",
      "Epoch 329 Batch    7/17   train_loss = 1.485\n",
      "Epoch 341 Batch    3/17   train_loss = 1.302\n",
      "Epoch 352 Batch   16/17   train_loss = 1.235\n",
      "Epoch 364 Batch   12/17   train_loss = 1.172\n",
      "Epoch 376 Batch    8/17   train_loss = 1.034\n",
      "Epoch 388 Batch    4/17   train_loss = 1.007\n",
      "Epoch 400 Batch    0/17   train_loss = 1.039\n",
      "Epoch 411 Batch   13/17   train_loss = 0.962\n",
      "Epoch 423 Batch    9/17   train_loss = 0.923\n",
      "Epoch 435 Batch    5/17   train_loss = 0.941\n",
      "Epoch 447 Batch    1/17   train_loss = 0.764\n",
      "Epoch 458 Batch   14/17   train_loss = 0.740\n",
      "Epoch 470 Batch   10/17   train_loss = 0.720\n",
      "Epoch 482 Batch    6/17   train_loss = 0.607\n",
      "Epoch 494 Batch    2/17   train_loss = 0.575\n",
      "Epoch 505 Batch   15/17   train_loss = 0.568\n",
      "Epoch 517 Batch   11/17   train_loss = 0.570\n",
      "Epoch 529 Batch    7/17   train_loss = 0.595\n",
      "Epoch 541 Batch    3/17   train_loss = 0.501\n",
      "Epoch 552 Batch   16/17   train_loss = 0.458\n",
      "Epoch 564 Batch   12/17   train_loss = 0.454\n",
      "Epoch 576 Batch    8/17   train_loss = 0.455\n",
      "Epoch 588 Batch    4/17   train_loss = 0.408\n",
      "Epoch 600 Batch    0/17   train_loss = 0.419\n",
      "Epoch 611 Batch   13/17   train_loss = 0.321\n",
      "Epoch 623 Batch    9/17   train_loss = 0.316\n",
      "Epoch 635 Batch    5/17   train_loss = 0.306\n",
      "Epoch 647 Batch    1/17   train_loss = 0.291\n",
      "Epoch 658 Batch   14/17   train_loss = 0.283\n",
      "Epoch 670 Batch   10/17   train_loss = 0.292\n",
      "Epoch 682 Batch    6/17   train_loss = 0.276\n",
      "Epoch 694 Batch    2/17   train_loss = 0.272\n",
      "Epoch 705 Batch   15/17   train_loss = 0.241\n",
      "Epoch 717 Batch   11/17   train_loss = 0.238\n",
      "Epoch 729 Batch    7/17   train_loss = 0.255\n",
      "Epoch 741 Batch    3/17   train_loss = 0.244\n",
      "Epoch 752 Batch   16/17   train_loss = 0.239\n",
      "Epoch 764 Batch   12/17   train_loss = 0.273\n",
      "Epoch 776 Batch    8/17   train_loss = 0.243\n",
      "Epoch 788 Batch    4/17   train_loss = 0.225\n",
      "Epoch 800 Batch    0/17   train_loss = 0.224\n",
      "Epoch 811 Batch   13/17   train_loss = 0.213\n",
      "Epoch 823 Batch    9/17   train_loss = 0.217\n",
      "Epoch 835 Batch    5/17   train_loss = 0.216\n",
      "Epoch 847 Batch    1/17   train_loss = 0.204\n",
      "Epoch 858 Batch   14/17   train_loss = 0.195\n",
      "Epoch 870 Batch   10/17   train_loss = 0.208\n",
      "Epoch 882 Batch    6/17   train_loss = 0.206\n",
      "Epoch 894 Batch    2/17   train_loss = 0.216\n",
      "Epoch 905 Batch   15/17   train_loss = 0.200\n",
      "Epoch 917 Batch   11/17   train_loss = 0.321\n",
      "Epoch 929 Batch    7/17   train_loss = 0.223\n",
      "Epoch 941 Batch    3/17   train_loss = 0.216\n",
      "Epoch 952 Batch   16/17   train_loss = 0.209\n",
      "Epoch 964 Batch   12/17   train_loss = 0.209\n",
      "Epoch 976 Batch    8/17   train_loss = 0.195\n",
      "Epoch 988 Batch    4/17   train_loss = 0.198\n",
      "Model Trained and Saved\n"
     ]
    }
   ],
   "source": [
    "\"\"\"\n",
    "DON'T MODIFY ANYTHING IN THIS CELL\n",
    "\"\"\"\n",
    "batches = get_batches(int_text, batch_size, seq_length)\n",
    "\n",
    "with tf.Session(graph=train_graph) as sess:\n",
    "    sess.run(tf.global_variables_initializer())\n",
    "\n",
    "    for epoch_i in range(num_epochs):\n",
    "        state = sess.run(initial_state, {input_text: batches[0][0]})\n",
    "\n",
    "        for batch_i, (x, y) in enumerate(batches):\n",
    "            feed = {\n",
    "                input_text: x,\n",
    "                targets: y,\n",
    "                initial_state: state,\n",
    "                lr: learning_rate}\n",
    "            train_loss, state, _ = sess.run([cost, final_state, train_op], feed)\n",
    "\n",
    "            # Show every <show_every_n_batches> batches\n",
    "            if (epoch_i * len(batches) + batch_i) % show_every_n_batches == 0:\n",
    "                print('Epoch {:>3} Batch {:>4}/{}   train_loss = {:.3f}'.format(\n",
    "                    epoch_i,\n",
    "                    batch_i,\n",
    "                    len(batches),\n",
    "                    train_loss))\n",
    "\n",
    "    # Save Model\n",
    "    saver = tf.train.Saver()\n",
    "    saver.save(sess, save_dir)\n",
    "    print('Model Trained and Saved')"
   ]
  },
  {
   "cell_type": "markdown",
   "metadata": {},
   "source": [
    "## Save Parameters\n",
    "Save `seq_length` and `save_dir` for generating a new TV script."
   ]
  },
  {
   "cell_type": "code",
   "execution_count": 48,
   "metadata": {
    "collapsed": true
   },
   "outputs": [],
   "source": [
    "\"\"\"\n",
    "DON'T MODIFY ANYTHING IN THIS CELL\n",
    "\"\"\"\n",
    "# Save parameters for checkpoint\n",
    "helper.save_params((seq_length, save_dir))"
   ]
  },
  {
   "cell_type": "markdown",
   "metadata": {},
   "source": [
    "# Checkpoint"
   ]
  },
  {
   "cell_type": "code",
   "execution_count": 49,
   "metadata": {
    "collapsed": true
   },
   "outputs": [],
   "source": [
    "\"\"\"\n",
    "DON'T MODIFY ANYTHING IN THIS CELL\n",
    "\"\"\"\n",
    "import tensorflow as tf\n",
    "import numpy as np\n",
    "import helper\n",
    "import problem_unittests as tests\n",
    "\n",
    "_, vocab_to_int, int_to_vocab, token_dict = helper.load_preprocess()\n",
    "seq_length, load_dir = helper.load_params()"
   ]
  },
  {
   "cell_type": "markdown",
   "metadata": {},
   "source": [
    "## Implement Generate Functions\n",
    "### Get Tensors\n",
    "Get tensors from `loaded_graph` using the function [`get_tensor_by_name()`](https://www.tensorflow.org/api_docs/python/tf/Graph#get_tensor_by_name).  Get the tensors using the following names:\n",
    "- \"input:0\"\n",
    "- \"initial_state:0\"\n",
    "- \"final_state:0\"\n",
    "- \"probs:0\"\n",
    "\n",
    "Return the tensors in the following tuple `(InputTensor, InitialStateTensor, FinalStateTensor, ProbsTensor)` "
   ]
  },
  {
   "cell_type": "code",
   "execution_count": 50,
   "metadata": {},
   "outputs": [
    {
     "name": "stdout",
     "output_type": "stream",
     "text": [
      "Tests Passed\n"
     ]
    }
   ],
   "source": [
    "def get_tensors(loaded_graph):\n",
    "    \"\"\"\n",
    "    Get input, initial state, final state, and probabilities tensor from <loaded_graph>\n",
    "    :param loaded_graph: TensorFlow graph loaded from file\n",
    "    :return: Tuple (InputTensor, InitialStateTensor, FinalStateTensor, ProbsTensor)\n",
    "    \"\"\"\n",
    "    inputTensor = loaded_graph.get_tensor_by_name(\"input:0\")\n",
    "    initialTensor = loaded_graph.get_tensor_by_name(\"initial_state:0\")\n",
    "    finalTensor = loaded_graph.get_tensor_by_name(\"final_state:0\")\n",
    "    probsTensor = loaded_graph.get_tensor_by_name(\"probs:0\")\n",
    "    \n",
    "    return inputTensor, initialTensor, finalTensor, probsTensor\n",
    "\n",
    "\n",
    "\"\"\"\n",
    "DON'T MODIFY ANYTHING IN THIS CELL THAT IS BELOW THIS LINE\n",
    "\"\"\"\n",
    "tests.test_get_tensors(get_tensors)"
   ]
  },
  {
   "cell_type": "markdown",
   "metadata": {},
   "source": [
    "### Choose Word\n",
    "Implement the `pick_word()` function to select the next word using `probabilities`."
   ]
  },
  {
   "cell_type": "code",
   "execution_count": 52,
   "metadata": {},
   "outputs": [
    {
     "name": "stdout",
     "output_type": "stream",
     "text": [
      "Tests Passed\n"
     ]
    }
   ],
   "source": [
    "import operator\n",
    "\n",
    "def pick_word(probabilities, int_to_vocab):\n",
    "    \"\"\"\n",
    "    Pick the next word in the generated text\n",
    "    :param probabilities: Probabilites of the next word\n",
    "    :param int_to_vocab: Dictionary of word ids as the keys and words as the values\n",
    "    :return: String of the predicted word\n",
    "    \"\"\"\n",
    "    index, value = max(enumerate(probabilities), key=operator.itemgetter(1))\n",
    "    word = int_to_vocab.get(index)\n",
    "    return word\n",
    "\n",
    "\n",
    "\"\"\"\n",
    "DON'T MODIFY ANYTHING IN THIS CELL THAT IS BELOW THIS LINE\n",
    "\"\"\"\n",
    "tests.test_pick_word(pick_word)"
   ]
  },
  {
   "cell_type": "markdown",
   "metadata": {},
   "source": [
    "## Generate TV Script\n",
    "This will generate the TV script for you.  Set `gen_length` to the length of TV script you want to generate."
   ]
  },
  {
   "cell_type": "code",
   "execution_count": 54,
   "metadata": {},
   "outputs": [
    {
     "name": "stdout",
     "output_type": "stream",
     "text": [
      "barney_gumble:(singing) so you better make that call to the plow king.\n",
      "moe_szyslak:(into phone) does this is me!\n",
      "\n",
      "\n",
      "moe_szyslak: homer, i'm so sorry... you know, uh, you just seen you about the beer?\n",
      "moe_szyslak: let's be surprised.\n",
      "homer_simpson: what happened to you, moe? last time you could be bedridden of life.\n",
      "lenny_leonard: hope, way through sexy, then...(sighs) excuse me.\n",
      "moe_szyslak: whoa, whoa, hey, you didn't know what you work out.\n",
      "moe_szyslak:(shocked) are you lookin' to throw you myself to make a lifetime supply of allegiance.\n",
      "dan_gillick: if it's time for the other way.\n",
      "homer_simpson: hey, those are not not lookin' for me.\n",
      "\n",
      "\n",
      "lenny_leonard:(kindly) i'm gonna be my cash\" is!\n",
      "homer_simpson:(dismissive knowing) yeah, but you're not here. i know a lot of world clean their high was, but i think then oh did? i'm to saying that is the moe back with a drink to make this place, you're so, i could think.\n",
      "homer_simpson: oh man, i'm gonna have to go home and and thank me, it'll worry.\"\n",
      "homer_simpson: i had the\" help wanted to the time.\n",
      "moe_szyslak: yeah, i need a problem! moe_szyslak:(reading) ooh,\" world's\" flaming unless your last one man...\n",
      "homer_simpson: when it's back, homer.\n",
      "homer_simpson: hey, hey, hey, hey! if you guys are gonna be closer have. that bees.\n",
      "homer_simpson: oh, you're right?\n",
      "moe_szyslak: i don't worry. you gotta know what everything you come for all like some beer now.\n",
      "moe_szyslak: i don't get it, i'll get into our kids!\n",
      "moe_szyslak: eh, hello, buddy, i can't afford to somethin'.. the stuff no ten high, and i need to use it and one of a woman i can...(to self)\n",
      "homer_simpson: c'mon, moe. do you have a little weird that happened...\n",
      "dennis_conroy:(quickly) that burning we can see where the wrong type...\n",
      "homer_simpson: moe, we've been too. we might be fun. no one's only guy a hundred or come for it.\n",
      "moe_szyslak: oh yeah, well. we might be my ma ever, but i'm gonna go.\n",
      "\n",
      "\n",
      "moe_szyslak:(sobs) oh, oh, sure.\n",
      "lenny_leonard: plastic!\n",
      "carl_carlson:(frustrated) why do we always been back we ever seen.\n",
      "moe_szyslak: it's official. well friendship, but i gotta get up to homer that now.\n",
      "moe_szyslak: a gal i'm not it.\n",
      "seymour_skinner: what happened to you better...\n",
      "barney_gumble: hey, moe!!\n",
      "moe_szyslak: hey, those two bad time!\n",
      "moe_szyslak: ah, business homer that it was my face?\n",
      "moe_szyslak: hey, you think we ain't seen the last dollars to think. and duff time.\n",
      "homer_simpson: it was too.\n",
      "moe_szyslak: ah, that's it. it's all the princess of the damned you been, but you think of five from, but i'm trying!\n",
      "\n",
      "\n",
      "barney_gumble:(to moe) you could be better break with a nigerian princess!\n",
      "homer_simpson: woo hoo!\n",
      "moe_szyslak: hey, for the game last guy in the trench coat has paris... and because uh...(to self).\n",
      "homer_simpson: oh yeah, i need a little money simpson.\n",
      "moe_szyslak: i'm leavin'....\n",
      "homer_simpson:(tipsy) hey, then it's....\n",
      "moe_szyslak:(generously) aw, that's a shame.\n",
      "homer_simpson:(eyes wide sing) in this bad.\n",
      "homer_simpson:(loud whisper) oh can i leave a girl to find back.\n",
      "apu_nahasapeemapetilon:(murmurs homer) hey, homer, i'd like to something call more inside. i just been in the bartender and the bees, from the job! i was a\" men's eye at an wall.(sobs.\n",
      "lenny_leonard: who wants a bathtub mint julep?\n",
      "homer_simpson: you know, in the duff.\n",
      "chief_wiggum:(shaking head) now, if it might be so quick on my friend.\n",
      "moe_szyslak: yeah, that's it, it's a great job if you gotta do a favor to.....\n",
      "moe_szyslak: chewin' stuff?!\n",
      "barney_gumble: oh yeah, but a lot harder to be to do a game tab, he didn't be the big date...\n",
      "homer_simpson:(touched) wow...(realizing) homie!(looks at watch!\n",
      "\n",
      "\n",
      "moe_szyslak: so, uh, what are you gonna do with the original little rascals. and now you have a big deal.(gasps) duh.\n",
      "moe_szyslak: oh, you'd are you a girl with a real(one!\n",
      "homer_simpson:(short moan)\n",
      "homer_simpson: marge, isn't me?\n",
      "\n",
      "\n",
      "\n",
      "\n",
      "homer_simpson: i just wanna tell that?\n",
      "lenny_leonard: i gotta tell ya, this is the dead. remember. i just got a body who can sustain verticality for three million?\n",
      "homer_simpson:(sobs) oh, you\n"
     ]
    }
   ],
   "source": [
    "gen_length = 1000\n",
    "# homer_simpson, moe_szyslak, or Barney_Gumble\n",
    "prime_word = 'barney_gumble'\n",
    "\n",
    "\"\"\"\n",
    "DON'T MODIFY ANYTHING IN THIS CELL THAT IS BELOW THIS LINE\n",
    "\"\"\"\n",
    "loaded_graph = tf.Graph()\n",
    "with tf.Session(graph=loaded_graph) as sess:\n",
    "    # Load saved model\n",
    "    loader = tf.train.import_meta_graph(load_dir + '.meta')\n",
    "    loader.restore(sess, load_dir)\n",
    "\n",
    "    # Get Tensors from loaded model\n",
    "    input_text, initial_state, final_state, probs = get_tensors(loaded_graph)\n",
    "\n",
    "    # Sentences generation setup\n",
    "    gen_sentences = [prime_word + ':']\n",
    "    prev_state = sess.run(initial_state, {input_text: np.array([[1]])})\n",
    "\n",
    "    # Generate sentences\n",
    "    for n in range(gen_length):\n",
    "        # Dynamic Input\n",
    "        dyn_input = [[vocab_to_int[word] for word in gen_sentences[-seq_length:]]]\n",
    "        dyn_seq_length = len(dyn_input[0])\n",
    "\n",
    "        # Get Prediction\n",
    "        probabilities, prev_state = sess.run(\n",
    "            [probs, final_state],\n",
    "            {input_text: dyn_input, initial_state: prev_state})\n",
    "        \n",
    "        pred_word = pick_word(probabilities[dyn_seq_length-1], int_to_vocab)\n",
    "\n",
    "        gen_sentences.append(pred_word)\n",
    "    \n",
    "    # Remove tokens\n",
    "    tv_script = ' '.join(gen_sentences)\n",
    "    for key, token in token_dict.items():\n",
    "        ending = ' ' if key in ['\\n', '(', '\"'] else ''\n",
    "        tv_script = tv_script.replace(' ' + token.lower(), key)\n",
    "    tv_script = tv_script.replace('\\n ', '\\n')\n",
    "    tv_script = tv_script.replace('( ', '(')\n",
    "        \n",
    "    print(tv_script)"
   ]
  },
  {
   "cell_type": "markdown",
   "metadata": {},
   "source": [
    "# The TV Script is Nonsensical\n",
    "It's ok if the TV script doesn't make any sense.  We trained on less than a megabyte of text.  In order to get good results, you'll have to use a smaller vocabulary or get more data.  Luckly there's more data!  As we mentioned in the begging of this project, this is a subset of [another dataset](https://www.kaggle.com/wcukierski/the-simpsons-by-the-data).  We didn't have you train on all the data, because that would take too long.  However, you are free to train your neural network on all the data.  After you complete the project, of course.\n",
    "# Submitting This Project\n",
    "When submitting this project, make sure to run all the cells before saving the notebook. Save the notebook file as \"dlnd_tv_script_generation.ipynb\" and save it as a HTML file under \"File\" -> \"Download as\". Include the \"helper.py\" and \"problem_unittests.py\" files in your submission."
   ]
  },
  {
   "cell_type": "code",
   "execution_count": null,
   "metadata": {
    "collapsed": true
   },
   "outputs": [],
   "source": []
  }
 ],
 "metadata": {
  "kernelspec": {
   "display_name": "Python 3",
   "language": "python",
   "name": "python3"
  },
  "language_info": {
   "codemirror_mode": {
    "name": "ipython",
    "version": 3
   },
   "file_extension": ".py",
   "mimetype": "text/x-python",
   "name": "python",
   "nbconvert_exporter": "python",
   "pygments_lexer": "ipython3",
   "version": "3.5.3"
  },
  "widgets": {
   "state": {},
   "version": "1.1.2"
  }
 },
 "nbformat": 4,
 "nbformat_minor": 1
}
